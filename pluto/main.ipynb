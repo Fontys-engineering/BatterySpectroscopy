{
 "cells": [
  {
   "cell_type": "code",
   "execution_count": null,
   "metadata": {},
   "outputs": [],
   "source": [
    "import adi\n",
    "import numpy as np"
   ]
  },
  {
   "cell_type": "code",
   "execution_count": null,
   "metadata": {},
   "outputs": [],
   "source": [
    "sdr = adi.Pluto(\"ip:192.168.2.1\")\n",
    "\n",
    "# Set the sample rate\n",
    "sample_rate = 1e6  # 10 MHz\n",
    "sdr.sample_rate = int(sample_rate)\n",
    "\n",
    "# Set the frequency and amplitude of the sine wave\n",
    "frequency = 1e9     # 1.0 GHz\n",
    "amplitude = 1       # 0.7 V\n",
    "\n",
    "# Generate time vector\n",
    "duration = 1  # 1 second\n",
    "num_samples = int(sample_rate * duration)\n",
    "t = np.arange(num_samples) / sample_rate\n",
    "\n",
    "# Generate the sine wave\n",
    "sine_wave = amplitude * np.sin(2 * np.pi * frequency * t)\n",
    "# sine_wave = np.array([1.0,])  \n",
    "\n",
    "# Transmit the sine wave\n",
    "sdr.tx_cyclic_buffer = True\n",
    "sdr.tx_hardwaregain_chan0 = 0  # Set the TX gain\n",
    "sdr.tx_lo = int(frequency)  # Set the TX LO frequency\n",
    "sdr.tx_rf_bandwidth = int(sample_rate)\n",
    "sdr.tx_buffer = sine_wave.astype(np.complex64)"
   ]
  }
 ],
 "metadata": {
  "kernelspec": {
   "display_name": "Python 3",
   "language": "python",
   "name": "python3"
  },
  "language_info": {
   "codemirror_mode": {
    "name": "ipython",
    "version": 3
   },
   "file_extension": ".py",
   "mimetype": "text/x-python",
   "name": "python",
   "nbconvert_exporter": "python",
   "pygments_lexer": "ipython3",
   "version": "3.12.2"
  }
 },
 "nbformat": 4,
 "nbformat_minor": 2
}
