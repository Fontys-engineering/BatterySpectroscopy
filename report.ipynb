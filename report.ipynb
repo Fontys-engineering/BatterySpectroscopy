{
 "cells": [
  {
   "cell_type": "markdown",
   "metadata": {},
   "source": [
    "# Battery spectroscopy report"
   ]
  },
  {
   "cell_type": "code",
   "execution_count": null,
   "metadata": {},
   "outputs": [],
   "source": [
    "import numpy as np\n",
    "import matplotlib.pyplot as plt\n",
    "\n",
    "from load_data import load_spice_data, load_AD2_data, load_SDS_data"
   ]
  },
  {
   "cell_type": "code",
   "execution_count": null,
   "metadata": {},
   "outputs": [],
   "source": [
    "IMPEDANCE_DIRECTORY = \"Impedance spectroscopy/\"\n",
    "try:\n",
    "    with open(\"project_dir_path.txt\") as file:\n",
    "        PROJECT_DIRECTORY = file.readline()\n",
    "except FileNotFoundError:\n",
    "    print(\"\"\"Don't forget to create file \"project_dir_path.txt\" with\n",
    "          the path to the project directory.\"\"\")\n",
    "DATA_DIRECTORY = PROJECT_DIRECTORY + IMPEDANCE_DIRECTORY"
   ]
  },
  {
   "cell_type": "markdown",
   "metadata": {},
   "source": [
    "## ECM1"
   ]
  },
  {
   "cell_type": "code",
   "execution_count": null,
   "metadata": {},
   "outputs": [],
   "source": [
    "ECM1_SPICE_DATA_FILE = DATA_DIRECTORY + \"ECM1/ECM1_SPICE_DATA.txt\"\n",
    "ECM1_1_AD2_DATA_FILE = DATA_DIRECTORY + \"ECM1/ECM1V1_AD2_DATA.csv\"\n",
    "ECM1_2_AD2_DATA_FILE = DATA_DIRECTORY + \"ECM1/ECM1V2_AD2_DATA.csv\"\n",
    "ECM1_2_SDS_DATA_FILE = DATA_DIRECTORY + \"ECM1/ECM1V2_SDS_DATA.csv\"\n",
    "\n",
    "ECM1_SPICE_data = load_spice_data(ECM1_SPICE_DATA_FILE)\n",
    "ECM1_1_AD2_data = load_AD2_data(ECM1_1_AD2_DATA_FILE)\n",
    "ECM1_2_AD2_data = load_AD2_data(ECM1_2_AD2_DATA_FILE)\n",
    "ECM1_2_SDS_data = load_SDS_data(ECM1_2_SDS_DATA_FILE)\n",
    "\n",
    "ECM1_2_SDS_data[1] *= 1044  # post multiplication because of measurment setup\n",
    "ECM1_SPICE_data[2] -= 180  # post correction phase LTspice\n",
    "\n",
    "fig, (ax1, ax2) = plt.subplots(2, 1, sharex=True)\n",
    "fig.suptitle(\"ECM1\")\n",
    "\n",
    "ax1.plot(ECM1_SPICE_data[0], ECM1_SPICE_data[1])\n",
    "ax1.plot(ECM1_1_AD2_data[0], ECM1_1_AD2_data[1])\n",
    "ax1.plot(ECM1_2_AD2_data[0], ECM1_2_AD2_data[1])\n",
    "ax1.plot(ECM1_2_SDS_data[0], ECM1_2_SDS_data[1])\n",
    "ax1.set_ylabel(\"Magnitude (Ohm)\")\n",
    "ax1.set_ylim(30, 45)\n",
    "ax1.grid(True, 'both')\n",
    "\n",
    "ax2.plot(ECM1_SPICE_data[0], ECM1_SPICE_data[2])\n",
    "ax2.plot(ECM1_1_AD2_data[0], ECM1_1_AD2_data[2])\n",
    "ax2.plot(ECM1_2_AD2_data[0], ECM1_2_AD2_data[2])\n",
    "ax2.plot(ECM1_2_SDS_data[0], ECM1_2_SDS_data[2])\n",
    "ax2.set_ylabel(\"Phase (Degree)\")\n",
    "ax2.grid(True, 'both')\n",
    "\n",
    "plt.xlabel(\"Frequency (Hz)\")\n",
    "plt.xscale(\"log\")\n",
    "plt.xlim(1e3, 40e6)\n",
    "plt.figlegend([\"LTspice\", \"AD2 V1\", \"AD2 V2\", \"SDS V2\"])\n",
    "fig.tight_layout()\n",
    "plt.show()"
   ]
  },
  {
   "cell_type": "code",
   "execution_count": null,
   "metadata": {},
   "outputs": [],
   "source": [
    "ECM1_SPICE_complex = np.array([mag * np.exp(1j * np.radians(phase))\n",
    "                              for mag, phase in zip(ECM1_SPICE_data[1],\n",
    "                                                    ECM1_SPICE_data[2])])\n",
    "ECM1_1_AD2_complex = np.array([mag * np.exp(1j * np.radians(phase))\n",
    "                            for mag, phase in zip(ECM1_1_AD2_data[1],\n",
    "                                                  ECM1_1_AD2_data[2])])\n",
    "ECM1_2_AD2_complex = np.array([mag * np.exp(1j * np.radians(phase))\n",
    "                              for mag, phase in zip(ECM1_2_AD2_data[1],\n",
    "                                                    ECM1_2_AD2_data[2])])\n",
    "ECM1_2_SDS_complex = np.array([mag * np.exp(1j * np.radians(phase))\n",
    "                              for mag, phase in zip(ECM1_2_SDS_data[1],\n",
    "                                                    ECM1_2_SDS_data[2])])\n",
    "\n",
    "fig, ((ax1, ax2), (ax3, ax4)) = plt.subplots(2, 2)\n",
    "fig.suptitle(\"ECM1 Nyquist plots\")\n",
    "ax1.plot(ECM1_SPICE_complex.real, ECM1_SPICE_complex.imag)\n",
    "ax1.set_title(\"LTspice\")\n",
    "ax2.plot(ECM1_1_AD2_complex.real, ECM1_1_AD2_complex.imag)\n",
    "ax2.set_title(\"AD2 V1\")\n",
    "ax3.plot(ECM1_2_AD2_complex.real, ECM1_2_AD2_complex.imag)\n",
    "ax3.set_title(\"AD2 V2\")\n",
    "ax4.plot(ECM1_2_SDS_complex.real, ECM1_2_SDS_complex.imag)\n",
    "ax4.set_title(\"SDS V2\")\n",
    "fig.tight_layout()\n",
    "plt.show()"
   ]
  },
  {
   "cell_type": "markdown",
   "metadata": {},
   "source": [
    "## ECM2"
   ]
  },
  {
   "cell_type": "code",
   "execution_count": null,
   "metadata": {},
   "outputs": [],
   "source": [
    "ECM2_SPICE_DATA_FILE = DATA_DIRECTORY + \"ECM2/ECM2_SPICE_DATA.txt\"\n",
    "ECM2_1_AD2_DATA_FILE = DATA_DIRECTORY + \"ECM2/ECM2V1_AD2_DATA.csv\"\n",
    "ECM2_2_AD2_DATA_FILE = DATA_DIRECTORY + \"ECM2/ECM2V2_AD2_DATA.csv\"\n",
    "ECM2_2_SDS_DATA_FILE = DATA_DIRECTORY + \"ECM2/ECM2V2_SDS_DATA.csv\"\n",
    "\n",
    "ECM2_SPICE_data = load_spice_data(ECM2_SPICE_DATA_FILE)\n",
    "ECM2_1_AD2_data = load_AD2_data(ECM2_1_AD2_DATA_FILE)\n",
    "ECM2_2_AD2_data = load_AD2_data(ECM2_2_AD2_DATA_FILE)\n",
    "ECM2_2_SDS_data = load_SDS_data(ECM2_2_SDS_DATA_FILE)\n",
    "\n",
    "# post multiplication because of measurment setup\n",
    "ECM2_2_SDS_data[1] = (1 - ECM2_2_SDS_data[1]) * 1997\n",
    "\n",
    "fig, (ax1, ax2) = plt.subplots(2, 1, sharex=True)\n",
    "fig.suptitle(\"ECM2\")\n",
    "\n",
    "ax1.plot(ECM2_SPICE_data[0], ECM2_SPICE_data[1])\n",
    "ax1.plot(ECM2_1_AD2_data[0], ECM2_1_AD2_data[1])\n",
    "ax1.plot(ECM2_2_AD2_data[0], ECM2_2_AD2_data[1])\n",
    "ax1.plot(ECM2_2_SDS_data[0], ECM2_2_SDS_data[1])\n",
    "ax1.set_ylabel(\"Magnitude (Ohm)\")\n",
    "ax1.grid(True, 'both')\n",
    "\n",
    "ax2.plot(ECM2_SPICE_data[0], ECM2_SPICE_data[2])\n",
    "ax2.plot(ECM2_1_AD2_data[0], ECM2_1_AD2_data[2])\n",
    "ax2.plot(ECM2_2_AD2_data[0], ECM2_2_AD2_data[2])\n",
    "ax2.plot(ECM2_2_SDS_data[0], ECM2_2_SDS_data[2])\n",
    "ax2.set_ylabel(\"Phase (Degree)\")\n",
    "ax2.grid(True, 'both')\n",
    "\n",
    "plt.xscale(\"log\")\n",
    "plt.xlabel(\"Frequency (Hz)\")\n",
    "plt.xlim(1e3, 40e6)\n",
    "plt.figlegend([\"LTspice\", \"AD2 V1\", \"AD2 V2\", \"SDS V2\"])\n",
    "fig.tight_layout()\n",
    "plt.show()"
   ]
  },
  {
   "cell_type": "code",
   "execution_count": null,
   "metadata": {},
   "outputs": [],
   "source": [
    "ECM2_SPICE_complex = np.array([mag * np.exp(1j * np.radians(phase))\n",
    "                              for mag, phase in zip(ECM2_SPICE_data[1],\n",
    "                                                    ECM2_SPICE_data[2])])\n",
    "ECM2_1_AD2_complex = np.array([mag * np.exp(1j * np.radians(phase))\n",
    "                            for mag, phase in zip(ECM2_1_AD2_data[1],\n",
    "                                                  ECM2_1_AD2_data[2])])\n",
    "ECM2_2_AD2_complex = np.array([mag * np.exp(1j * np.radians(phase))\n",
    "                              for mag, phase in zip(ECM2_2_AD2_data[1],\n",
    "                                                    ECM2_2_AD2_data[2])])\n",
    "ECM2_2_SDS_complex = np.array([mag * np.exp(1j * np.radians(phase))\n",
    "                              for mag, phase in zip(ECM2_2_SDS_data[1],\n",
    "                                                    ECM2_2_SDS_data[2])])\n",
    "\n",
    "fig, ((ax1, ax2), (ax3, ax4)) = plt.subplots(2, 2)\n",
    "fig.suptitle(\"ECM2 Nyquist plots\")\n",
    "ax1.plot(ECM2_SPICE_complex.real, ECM2_SPICE_complex.imag)\n",
    "ax1.set_title(\"LTspice\")\n",
    "ax2.plot(ECM2_1_AD2_complex.real, ECM2_1_AD2_complex.imag)\n",
    "ax2.set_title(\"AD2 V1\")\n",
    "ax3.plot(ECM2_2_AD2_complex.real, ECM2_2_AD2_complex.imag)\n",
    "ax3.set_title(\"AD2 V2\")\n",
    "ax4.plot(ECM2_2_SDS_complex.real, ECM2_2_SDS_complex.imag)\n",
    "ax4.set_title(\"SDS V2\")\n",
    "fig.tight_layout()\n",
    "plt.show()"
   ]
  }
 ],
 "metadata": {
  "kernelspec": {
   "display_name": "Python 3",
   "language": "python",
   "name": "python3"
  },
  "language_info": {
   "codemirror_mode": {
    "name": "ipython",
    "version": 3
   },
   "file_extension": ".py",
   "mimetype": "text/x-python",
   "name": "python",
   "nbconvert_exporter": "python",
   "pygments_lexer": "ipython3",
   "version": "3.12.1"
  }
 },
 "nbformat": 4,
 "nbformat_minor": 2
}
